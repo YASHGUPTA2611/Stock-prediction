{
 "cells": [
  {
   "cell_type": "code",
   "execution_count": 1,
   "id": "flush-softball",
   "metadata": {},
   "outputs": [],
   "source": [
    "import pandas as pd\n",
    "import matplotlib.pyplot as plt\n",
    "import seaborn as sns\n",
    "import warnings\n",
    "warnings.filterwarnings('ignore')"
   ]
  },
  {
   "cell_type": "code",
   "execution_count": 2,
   "id": "a55329ea",
   "metadata": {},
   "outputs": [],
   "source": [
    "data = pd.read_csv(r'C:\\Users\\The ChainSmokers\\MY PROJECTS\\Stock Market\\Stocks\\aapl.us.txt')"
   ]
  },
  {
   "cell_type": "code",
   "execution_count": 3,
   "id": "5b7e5e8c",
   "metadata": {},
   "outputs": [
    {
     "data": {
      "text/html": [
       "<div>\n",
       "<style scoped>\n",
       "    .dataframe tbody tr th:only-of-type {\n",
       "        vertical-align: middle;\n",
       "    }\n",
       "\n",
       "    .dataframe tbody tr th {\n",
       "        vertical-align: top;\n",
       "    }\n",
       "\n",
       "    .dataframe thead th {\n",
       "        text-align: right;\n",
       "    }\n",
       "</style>\n",
       "<table border=\"1\" class=\"dataframe\">\n",
       "  <thead>\n",
       "    <tr style=\"text-align: right;\">\n",
       "      <th></th>\n",
       "      <th>Date</th>\n",
       "      <th>Open</th>\n",
       "      <th>High</th>\n",
       "      <th>Low</th>\n",
       "      <th>Close</th>\n",
       "      <th>Volume</th>\n",
       "      <th>OpenInt</th>\n",
       "    </tr>\n",
       "  </thead>\n",
       "  <tbody>\n",
       "    <tr>\n",
       "      <th>0</th>\n",
       "      <td>1984-09-07</td>\n",
       "      <td>0.42388</td>\n",
       "      <td>0.42902</td>\n",
       "      <td>0.41874</td>\n",
       "      <td>0.42388</td>\n",
       "      <td>23220030</td>\n",
       "      <td>0</td>\n",
       "    </tr>\n",
       "    <tr>\n",
       "      <th>1</th>\n",
       "      <td>1984-09-10</td>\n",
       "      <td>0.42388</td>\n",
       "      <td>0.42516</td>\n",
       "      <td>0.41366</td>\n",
       "      <td>0.42134</td>\n",
       "      <td>18022532</td>\n",
       "      <td>0</td>\n",
       "    </tr>\n",
       "    <tr>\n",
       "      <th>2</th>\n",
       "      <td>1984-09-11</td>\n",
       "      <td>0.42516</td>\n",
       "      <td>0.43668</td>\n",
       "      <td>0.42516</td>\n",
       "      <td>0.42902</td>\n",
       "      <td>42498199</td>\n",
       "      <td>0</td>\n",
       "    </tr>\n",
       "    <tr>\n",
       "      <th>3</th>\n",
       "      <td>1984-09-12</td>\n",
       "      <td>0.42902</td>\n",
       "      <td>0.43157</td>\n",
       "      <td>0.41618</td>\n",
       "      <td>0.41618</td>\n",
       "      <td>37125801</td>\n",
       "      <td>0</td>\n",
       "    </tr>\n",
       "    <tr>\n",
       "      <th>4</th>\n",
       "      <td>1984-09-13</td>\n",
       "      <td>0.43927</td>\n",
       "      <td>0.44052</td>\n",
       "      <td>0.43927</td>\n",
       "      <td>0.43927</td>\n",
       "      <td>57822062</td>\n",
       "      <td>0</td>\n",
       "    </tr>\n",
       "  </tbody>\n",
       "</table>\n",
       "</div>"
      ],
      "text/plain": [
       "         Date     Open     High      Low    Close    Volume  OpenInt\n",
       "0  1984-09-07  0.42388  0.42902  0.41874  0.42388  23220030        0\n",
       "1  1984-09-10  0.42388  0.42516  0.41366  0.42134  18022532        0\n",
       "2  1984-09-11  0.42516  0.43668  0.42516  0.42902  42498199        0\n",
       "3  1984-09-12  0.42902  0.43157  0.41618  0.41618  37125801        0\n",
       "4  1984-09-13  0.43927  0.44052  0.43927  0.43927  57822062        0"
      ]
     },
     "execution_count": 3,
     "metadata": {},
     "output_type": "execute_result"
    }
   ],
   "source": [
    "data.head()"
   ]
  },
  {
   "cell_type": "code",
   "execution_count": 4,
   "id": "32e8aa46",
   "metadata": {},
   "outputs": [
    {
     "data": {
      "text/plain": [
       "(8364, 7)"
      ]
     },
     "execution_count": 4,
     "metadata": {},
     "output_type": "execute_result"
    }
   ],
   "source": [
    "data.shape"
   ]
  },
  {
   "cell_type": "code",
   "execution_count": 5,
   "id": "bb0be1cc",
   "metadata": {},
   "outputs": [
    {
     "data": {
      "text/html": [
       "<div>\n",
       "<style scoped>\n",
       "    .dataframe tbody tr th:only-of-type {\n",
       "        vertical-align: middle;\n",
       "    }\n",
       "\n",
       "    .dataframe tbody tr th {\n",
       "        vertical-align: top;\n",
       "    }\n",
       "\n",
       "    .dataframe thead th {\n",
       "        text-align: right;\n",
       "    }\n",
       "</style>\n",
       "<table border=\"1\" class=\"dataframe\">\n",
       "  <thead>\n",
       "    <tr style=\"text-align: right;\">\n",
       "      <th></th>\n",
       "      <th>Date</th>\n",
       "      <th>Open</th>\n",
       "      <th>High</th>\n",
       "      <th>Low</th>\n",
       "      <th>Close</th>\n",
       "      <th>Volume</th>\n",
       "      <th>OpenInt</th>\n",
       "    </tr>\n",
       "  </thead>\n",
       "  <tbody>\n",
       "    <tr>\n",
       "      <th>8359</th>\n",
       "      <td>2017-11-06</td>\n",
       "      <td>171.75</td>\n",
       "      <td>174.36</td>\n",
       "      <td>171.10</td>\n",
       "      <td>173.63</td>\n",
       "      <td>34901241</td>\n",
       "      <td>0</td>\n",
       "    </tr>\n",
       "    <tr>\n",
       "      <th>8360</th>\n",
       "      <td>2017-11-07</td>\n",
       "      <td>173.29</td>\n",
       "      <td>174.51</td>\n",
       "      <td>173.29</td>\n",
       "      <td>174.18</td>\n",
       "      <td>24424877</td>\n",
       "      <td>0</td>\n",
       "    </tr>\n",
       "    <tr>\n",
       "      <th>8361</th>\n",
       "      <td>2017-11-08</td>\n",
       "      <td>174.03</td>\n",
       "      <td>175.61</td>\n",
       "      <td>173.71</td>\n",
       "      <td>175.61</td>\n",
       "      <td>24451166</td>\n",
       "      <td>0</td>\n",
       "    </tr>\n",
       "    <tr>\n",
       "      <th>8362</th>\n",
       "      <td>2017-11-09</td>\n",
       "      <td>174.48</td>\n",
       "      <td>175.46</td>\n",
       "      <td>172.52</td>\n",
       "      <td>175.25</td>\n",
       "      <td>29533086</td>\n",
       "      <td>0</td>\n",
       "    </tr>\n",
       "    <tr>\n",
       "      <th>8363</th>\n",
       "      <td>2017-11-10</td>\n",
       "      <td>175.11</td>\n",
       "      <td>175.38</td>\n",
       "      <td>174.27</td>\n",
       "      <td>174.67</td>\n",
       "      <td>25130494</td>\n",
       "      <td>0</td>\n",
       "    </tr>\n",
       "  </tbody>\n",
       "</table>\n",
       "</div>"
      ],
      "text/plain": [
       "            Date    Open    High     Low   Close    Volume  OpenInt\n",
       "8359  2017-11-06  171.75  174.36  171.10  173.63  34901241        0\n",
       "8360  2017-11-07  173.29  174.51  173.29  174.18  24424877        0\n",
       "8361  2017-11-08  174.03  175.61  173.71  175.61  24451166        0\n",
       "8362  2017-11-09  174.48  175.46  172.52  175.25  29533086        0\n",
       "8363  2017-11-10  175.11  175.38  174.27  174.67  25130494        0"
      ]
     },
     "execution_count": 5,
     "metadata": {},
     "output_type": "execute_result"
    }
   ],
   "source": [
    "data.tail()"
   ]
  },
  {
   "cell_type": "code",
   "execution_count": 6,
   "id": "29e39fd6",
   "metadata": {},
   "outputs": [],
   "source": [
    "data.drop(['OpenInt','Volume'], inplace=True, axis=1)"
   ]
  },
  {
   "cell_type": "code",
   "execution_count": 7,
   "id": "98ceed93",
   "metadata": {},
   "outputs": [
    {
     "data": {
      "text/html": [
       "<div>\n",
       "<style scoped>\n",
       "    .dataframe tbody tr th:only-of-type {\n",
       "        vertical-align: middle;\n",
       "    }\n",
       "\n",
       "    .dataframe tbody tr th {\n",
       "        vertical-align: top;\n",
       "    }\n",
       "\n",
       "    .dataframe thead th {\n",
       "        text-align: right;\n",
       "    }\n",
       "</style>\n",
       "<table border=\"1\" class=\"dataframe\">\n",
       "  <thead>\n",
       "    <tr style=\"text-align: right;\">\n",
       "      <th></th>\n",
       "      <th>Date</th>\n",
       "      <th>Open</th>\n",
       "      <th>High</th>\n",
       "      <th>Low</th>\n",
       "      <th>Close</th>\n",
       "    </tr>\n",
       "  </thead>\n",
       "  <tbody>\n",
       "    <tr>\n",
       "      <th>0</th>\n",
       "      <td>1984-09-07</td>\n",
       "      <td>0.42388</td>\n",
       "      <td>0.42902</td>\n",
       "      <td>0.41874</td>\n",
       "      <td>0.42388</td>\n",
       "    </tr>\n",
       "    <tr>\n",
       "      <th>1</th>\n",
       "      <td>1984-09-10</td>\n",
       "      <td>0.42388</td>\n",
       "      <td>0.42516</td>\n",
       "      <td>0.41366</td>\n",
       "      <td>0.42134</td>\n",
       "    </tr>\n",
       "    <tr>\n",
       "      <th>2</th>\n",
       "      <td>1984-09-11</td>\n",
       "      <td>0.42516</td>\n",
       "      <td>0.43668</td>\n",
       "      <td>0.42516</td>\n",
       "      <td>0.42902</td>\n",
       "    </tr>\n",
       "    <tr>\n",
       "      <th>3</th>\n",
       "      <td>1984-09-12</td>\n",
       "      <td>0.42902</td>\n",
       "      <td>0.43157</td>\n",
       "      <td>0.41618</td>\n",
       "      <td>0.41618</td>\n",
       "    </tr>\n",
       "    <tr>\n",
       "      <th>4</th>\n",
       "      <td>1984-09-13</td>\n",
       "      <td>0.43927</td>\n",
       "      <td>0.44052</td>\n",
       "      <td>0.43927</td>\n",
       "      <td>0.43927</td>\n",
       "    </tr>\n",
       "  </tbody>\n",
       "</table>\n",
       "</div>"
      ],
      "text/plain": [
       "         Date     Open     High      Low    Close\n",
       "0  1984-09-07  0.42388  0.42902  0.41874  0.42388\n",
       "1  1984-09-10  0.42388  0.42516  0.41366  0.42134\n",
       "2  1984-09-11  0.42516  0.43668  0.42516  0.42902\n",
       "3  1984-09-12  0.42902  0.43157  0.41618  0.41618\n",
       "4  1984-09-13  0.43927  0.44052  0.43927  0.43927"
      ]
     },
     "execution_count": 7,
     "metadata": {},
     "output_type": "execute_result"
    }
   ],
   "source": [
    "data.head()"
   ]
  },
  {
   "cell_type": "code",
   "execution_count": 8,
   "id": "472e4924",
   "metadata": {},
   "outputs": [],
   "source": [
    "train_dates = pd.to_datetime(data['Date'])"
   ]
  },
  {
   "cell_type": "code",
   "execution_count": 9,
   "id": "4116051e",
   "metadata": {},
   "outputs": [
    {
     "data": {
      "text/plain": [
       "8359   2017-11-06\n",
       "8360   2017-11-07\n",
       "8361   2017-11-08\n",
       "8362   2017-11-09\n",
       "8363   2017-11-10\n",
       "Name: Date, dtype: datetime64[ns]"
      ]
     },
     "execution_count": 9,
     "metadata": {},
     "output_type": "execute_result"
    }
   ],
   "source": [
    "train_dates.tail()"
   ]
  },
  {
   "cell_type": "code",
   "execution_count": 10,
   "id": "b838cf47",
   "metadata": {},
   "outputs": [],
   "source": [
    "data['Date']=pd.to_datetime(data['Date'])"
   ]
  },
  {
   "cell_type": "code",
   "execution_count": 11,
   "id": "5f69a95c",
   "metadata": {},
   "outputs": [
    {
     "name": "stdout",
     "output_type": "stream",
     "text": [
      "<class 'pandas.core.frame.DataFrame'>\n",
      "RangeIndex: 8364 entries, 0 to 8363\n",
      "Data columns (total 5 columns):\n",
      " #   Column  Non-Null Count  Dtype         \n",
      "---  ------  --------------  -----         \n",
      " 0   Date    8364 non-null   datetime64[ns]\n",
      " 1   Open    8364 non-null   float64       \n",
      " 2   High    8364 non-null   float64       \n",
      " 3   Low     8364 non-null   float64       \n",
      " 4   Close   8364 non-null   float64       \n",
      "dtypes: datetime64[ns](1), float64(4)\n",
      "memory usage: 326.8 KB\n"
     ]
    }
   ],
   "source": [
    "data.info()"
   ]
  },
  {
   "cell_type": "code",
   "execution_count": 12,
   "id": "6e27e664",
   "metadata": {},
   "outputs": [],
   "source": [
    "data.set_index('Date',inplace=True)"
   ]
  },
  {
   "cell_type": "code",
   "execution_count": 13,
   "id": "abandoned-genius",
   "metadata": {},
   "outputs": [
    {
     "data": {
      "text/html": [
       "<div>\n",
       "<style scoped>\n",
       "    .dataframe tbody tr th:only-of-type {\n",
       "        vertical-align: middle;\n",
       "    }\n",
       "\n",
       "    .dataframe tbody tr th {\n",
       "        vertical-align: top;\n",
       "    }\n",
       "\n",
       "    .dataframe thead th {\n",
       "        text-align: right;\n",
       "    }\n",
       "</style>\n",
       "<table border=\"1\" class=\"dataframe\">\n",
       "  <thead>\n",
       "    <tr style=\"text-align: right;\">\n",
       "      <th></th>\n",
       "      <th>Open</th>\n",
       "      <th>High</th>\n",
       "      <th>Low</th>\n",
       "      <th>Close</th>\n",
       "    </tr>\n",
       "    <tr>\n",
       "      <th>Date</th>\n",
       "      <th></th>\n",
       "      <th></th>\n",
       "      <th></th>\n",
       "      <th></th>\n",
       "    </tr>\n",
       "  </thead>\n",
       "  <tbody>\n",
       "    <tr>\n",
       "      <th>1984-09-07</th>\n",
       "      <td>0.42388</td>\n",
       "      <td>0.42902</td>\n",
       "      <td>0.41874</td>\n",
       "      <td>0.42388</td>\n",
       "    </tr>\n",
       "    <tr>\n",
       "      <th>1984-09-10</th>\n",
       "      <td>0.42388</td>\n",
       "      <td>0.42516</td>\n",
       "      <td>0.41366</td>\n",
       "      <td>0.42134</td>\n",
       "    </tr>\n",
       "    <tr>\n",
       "      <th>1984-09-11</th>\n",
       "      <td>0.42516</td>\n",
       "      <td>0.43668</td>\n",
       "      <td>0.42516</td>\n",
       "      <td>0.42902</td>\n",
       "    </tr>\n",
       "    <tr>\n",
       "      <th>1984-09-12</th>\n",
       "      <td>0.42902</td>\n",
       "      <td>0.43157</td>\n",
       "      <td>0.41618</td>\n",
       "      <td>0.41618</td>\n",
       "    </tr>\n",
       "    <tr>\n",
       "      <th>1984-09-13</th>\n",
       "      <td>0.43927</td>\n",
       "      <td>0.44052</td>\n",
       "      <td>0.43927</td>\n",
       "      <td>0.43927</td>\n",
       "    </tr>\n",
       "    <tr>\n",
       "      <th>...</th>\n",
       "      <td>...</td>\n",
       "      <td>...</td>\n",
       "      <td>...</td>\n",
       "      <td>...</td>\n",
       "    </tr>\n",
       "    <tr>\n",
       "      <th>2017-11-06</th>\n",
       "      <td>171.75000</td>\n",
       "      <td>174.36000</td>\n",
       "      <td>171.10000</td>\n",
       "      <td>173.63000</td>\n",
       "    </tr>\n",
       "    <tr>\n",
       "      <th>2017-11-07</th>\n",
       "      <td>173.29000</td>\n",
       "      <td>174.51000</td>\n",
       "      <td>173.29000</td>\n",
       "      <td>174.18000</td>\n",
       "    </tr>\n",
       "    <tr>\n",
       "      <th>2017-11-08</th>\n",
       "      <td>174.03000</td>\n",
       "      <td>175.61000</td>\n",
       "      <td>173.71000</td>\n",
       "      <td>175.61000</td>\n",
       "    </tr>\n",
       "    <tr>\n",
       "      <th>2017-11-09</th>\n",
       "      <td>174.48000</td>\n",
       "      <td>175.46000</td>\n",
       "      <td>172.52000</td>\n",
       "      <td>175.25000</td>\n",
       "    </tr>\n",
       "    <tr>\n",
       "      <th>2017-11-10</th>\n",
       "      <td>175.11000</td>\n",
       "      <td>175.38000</td>\n",
       "      <td>174.27000</td>\n",
       "      <td>174.67000</td>\n",
       "    </tr>\n",
       "  </tbody>\n",
       "</table>\n",
       "<p>8364 rows × 4 columns</p>\n",
       "</div>"
      ],
      "text/plain": [
       "                 Open       High        Low      Close\n",
       "Date                                                  \n",
       "1984-09-07    0.42388    0.42902    0.41874    0.42388\n",
       "1984-09-10    0.42388    0.42516    0.41366    0.42134\n",
       "1984-09-11    0.42516    0.43668    0.42516    0.42902\n",
       "1984-09-12    0.42902    0.43157    0.41618    0.41618\n",
       "1984-09-13    0.43927    0.44052    0.43927    0.43927\n",
       "...               ...        ...        ...        ...\n",
       "2017-11-06  171.75000  174.36000  171.10000  173.63000\n",
       "2017-11-07  173.29000  174.51000  173.29000  174.18000\n",
       "2017-11-08  174.03000  175.61000  173.71000  175.61000\n",
       "2017-11-09  174.48000  175.46000  172.52000  175.25000\n",
       "2017-11-10  175.11000  175.38000  174.27000  174.67000\n",
       "\n",
       "[8364 rows x 4 columns]"
      ]
     },
     "execution_count": 13,
     "metadata": {},
     "output_type": "execute_result"
    }
   ],
   "source": [
    "data"
   ]
  },
  {
   "cell_type": "code",
   "execution_count": 14,
   "id": "4b7e1f21",
   "metadata": {},
   "outputs": [
    {
     "data": {
      "text/plain": [
       "[<matplotlib.lines.Line2D at 0x1fbebedcba8>]"
      ]
     },
     "execution_count": 14,
     "metadata": {},
     "output_type": "execute_result"
    },
    {
     "data": {
      "image/png": "[encoded data removed]",
      "text/plain": [
       "<Figure size 432x288 with 1 Axes>"
      ]
     },
     "metadata": {
      "needs_background": "light"
     },
     "output_type": "display_data"
    }
   ],
   "source": [
    "plt.plot(data['Close'])"
   ]
  },
  {
   "cell_type": "code",
   "execution_count": 15,
   "id": "0231f7ee",
   "metadata": {},
   "outputs": [
    {
     "data": {
      "text/plain": [
       "(8364, 4)"
      ]
     },
     "execution_count": 15,
     "metadata": {},
     "output_type": "execute_result"
    }
   ],
   "source": [
    "data.shape"
   ]
  },
  {
   "cell_type": "code",
   "execution_count": 16,
   "id": "reliable-condition",
   "metadata": {},
   "outputs": [],
   "source": [
    "import numpy as np"
   ]
  },
  {
   "cell_type": "code",
   "execution_count": 17,
   "id": "blessed-heating",
   "metadata": {},
   "outputs": [],
   "source": [
    "from sklearn.preprocessing import StandardScaler"
   ]
  },
  {
   "cell_type": "code",
   "execution_count": 18,
   "id": "dd64184c",
   "metadata": {},
   "outputs": [],
   "source": [
    "scalar= StandardScaler()"
   ]
  },
  {
   "cell_type": "code",
   "execution_count": 19,
   "id": "3106ac4a",
   "metadata": {},
   "outputs": [
    {
     "data": {
      "text/plain": [
       "StandardScaler()"
      ]
     },
     "execution_count": 19,
     "metadata": {},
     "output_type": "execute_result"
    }
   ],
   "source": [
    "scalar.fit(data)"
   ]
  },
  {
   "cell_type": "code",
   "execution_count": 20,
   "id": "bae5bab2",
   "metadata": {},
   "outputs": [],
   "source": [
    "data_scaled=scalar.transform(data)"
   ]
  },
  {
   "cell_type": "code",
   "execution_count": 21,
   "id": "4639c75c",
   "metadata": {},
   "outputs": [
    {
     "data": {
      "text/plain": [
       "8364"
      ]
     },
     "execution_count": 21,
     "metadata": {},
     "output_type": "execute_result"
    }
   ],
   "source": [
    "len(data_scaled)"
   ]
  },
  {
   "cell_type": "markdown",
   "id": "1517b639",
   "metadata": {},
   "source": [
    "## Splitting our Time Series train-test data"
   ]
  },
  {
   "cell_type": "code",
   "execution_count": 22,
   "id": "f911bfe5",
   "metadata": {},
   "outputs": [],
   "source": [
    "##splitting dataset into train and test split\n",
    "training_size=int(len(data_scaled)*0.75)\n",
    "test_size=len(data_scaled)-training_size\n",
    "train_data,test_data=data_scaled[0:training_size,:],data_scaled[training_size:len(data_scaled),:]"
   ]
  },
  {
   "cell_type": "code",
   "execution_count": 23,
   "id": "19ba28cc",
   "metadata": {},
   "outputs": [
    {
     "data": {
      "text/plain": [
       "(2091, 4)"
      ]
     },
     "execution_count": 23,
     "metadata": {},
     "output_type": "execute_result"
    }
   ],
   "source": [
    "test_data.shape"
   ]
  },
  {
   "cell_type": "code",
   "execution_count": 24,
   "id": "feb80525",
   "metadata": {},
   "outputs": [
    {
     "data": {
      "text/plain": [
       "(6273, 4)"
      ]
     },
     "execution_count": 24,
     "metadata": {},
     "output_type": "execute_result"
    }
   ],
   "source": [
    "train_data.shape"
   ]
  },
  {
   "cell_type": "code",
   "execution_count": 25,
   "id": "42ad588d",
   "metadata": {},
   "outputs": [],
   "source": [
    "import numpy\n",
    "# convert an array of values into a dataset matrix\n",
    "def create_dataset(dataset, time_step=1):\n",
    "    dataX, dataY = [], []\n",
    "    for i in range(len(dataset)-time_step-1):\n",
    "        a = dataset[i:(i+time_step), :]   \n",
    "        dataX.append(a)\n",
    "        dataY.append(dataset[i + time_step, 3])\n",
    "    return numpy.array(dataX), numpy.array(dataY)"
   ]
  },
  {
   "cell_type": "code",
   "execution_count": 26,
   "id": "a0533a2c",
   "metadata": {},
   "outputs": [],
   "source": [
    "X_train, y_train = create_dataset(train_data, time_step=100)"
   ]
  },
  {
   "cell_type": "code",
   "execution_count": 27,
   "id": "3837bd70",
   "metadata": {},
   "outputs": [
    {
     "data": {
      "text/plain": [
       "(6172, 100, 4)"
      ]
     },
     "execution_count": 27,
     "metadata": {},
     "output_type": "execute_result"
    }
   ],
   "source": [
    "X_train.shape"
   ]
  },
  {
   "cell_type": "code",
   "execution_count": 28,
   "id": "891eacf6",
   "metadata": {},
   "outputs": [
    {
     "data": {
      "text/plain": [
       "array([-0.57738641, -0.57775874, -0.57792796, ..., -0.07624071,\n",
       "       -0.05849811, -0.05481718])"
      ]
     },
     "execution_count": 28,
     "metadata": {},
     "output_type": "execute_result"
    }
   ],
   "source": [
    "y_train"
   ]
  },
  {
   "cell_type": "code",
   "execution_count": 29,
   "id": "2fcb31f9",
   "metadata": {},
   "outputs": [],
   "source": [
    "y_train = y_train.reshape(-1,1)"
   ]
  },
  {
   "cell_type": "code",
   "execution_count": 30,
   "id": "e2d1e6a4",
   "metadata": {},
   "outputs": [
    {
     "data": {
      "text/plain": [
       "(6172, 1)"
      ]
     },
     "execution_count": 30,
     "metadata": {},
     "output_type": "execute_result"
    }
   ],
   "source": [
    "y_train.shape"
   ]
  },
  {
   "cell_type": "code",
   "execution_count": 31,
   "id": "c4894805",
   "metadata": {},
   "outputs": [],
   "source": [
    "X_test, y_test = create_dataset(test_data, time_step = 200)"
   ]
  },
  {
   "cell_type": "code",
   "execution_count": 32,
   "id": "954c26e0",
   "metadata": {},
   "outputs": [
    {
     "data": {
      "text/plain": [
       "(1890, 200, 4)"
      ]
     },
     "execution_count": 32,
     "metadata": {},
     "output_type": "execute_result"
    }
   ],
   "source": [
    "X_test.shape"
   ]
  },
  {
   "cell_type": "code",
   "execution_count": 33,
   "id": "61107826",
   "metadata": {},
   "outputs": [],
   "source": [
    "y_test = y_test.reshape(-1,1)"
   ]
  },
  {
   "cell_type": "code",
   "execution_count": 34,
   "id": "c72cee99",
   "metadata": {},
   "outputs": [
    {
     "data": {
      "text/plain": [
       "(1890, 1)"
      ]
     },
     "execution_count": 34,
     "metadata": {},
     "output_type": "execute_result"
    }
   ],
   "source": [
    "y_test.shape"
   ]
  },
  {
   "cell_type": "code",
   "execution_count": 35,
   "id": "c07f566f",
   "metadata": {},
   "outputs": [],
   "source": [
    "X_train, y_train, X_test, y_test = np.array(X_train), np.array(y_train), np.array(X_test), np.array(y_test)"
   ]
  },
  {
   "cell_type": "code",
   "execution_count": 36,
   "id": "professional-flood",
   "metadata": {},
   "outputs": [],
   "source": [
    "import tensorflow"
   ]
  },
  {
   "cell_type": "code",
   "execution_count": 37,
   "id": "7a9bba2a",
   "metadata": {},
   "outputs": [],
   "source": [
    "from tensorflow.keras.models import Sequential\n",
    "from tensorflow.keras.layers import Dense\n",
    "from tensorflow.keras.layers import LSTM\n",
    "from tensorflow.keras.layers import Dropout\n",
    "from tensorflow.keras.layers import Bidirectional"
   ]
  },
  {
   "cell_type": "code",
   "execution_count": 38,
   "id": "9c664a0f",
   "metadata": {},
   "outputs": [],
   "source": [
    "model=Sequential()\n",
    "model.add(Bidirectional(LSTM(100,return_sequences=True,input_shape=(200,4))))\n",
    "model.add(Bidirectional(LSTM(50,return_sequences=False)))\n",
    "model.add(Dropout(0.2))\n",
    "model.add(Dense(1))\n",
    "model.compile(loss='mean_squared_error',optimizer='adam')"
   ]
  },
  {
   "cell_type": "code",
   "execution_count": 39,
   "id": "pressing-schedule",
   "metadata": {},
   "outputs": [],
   "source": [
    "history = model.fit(X_train,y_train, validation_data=(X_test,y_test),epochs=10,batch_size=64,verbose=1)"
   ]
  },
  {
   "cell_type": "code",
   "execution_count": 40,
   "id": "7e616795",
   "metadata": {},
   "outputs": [],
   "source": [
    "model.save('bad.h5')"
   ]
  },
  {
   "cell_type": "markdown",
   "id": "dd7a388a",
   "metadata": {},
   "source": [
    "## 90 days prediction "
   ]
  },
  {
   "cell_type": "code",
   "execution_count": 41,
   "id": "d8700cdf",
   "metadata": {},
   "outputs": [],
   "source": [
    "n_future = 90"
   ]
  },
  {
   "cell_type": "code",
   "execution_count": 42,
   "id": "91c73bc2",
   "metadata": {},
   "outputs": [],
   "source": [
    "forcast_dates = pd.date_range(list(train_dates)[-1], periods=n_future, freq='1d').tolist()"
   ]
  },
  {
   "cell_type": "code",
   "execution_count": 43,
   "id": "9e8e36aa",
   "metadata": {},
   "outputs": [
    {
     "data": {
      "text/plain": [
       "[Timestamp('2017-11-10 00:00:00', freq='D'),\n",
       " Timestamp('2017-11-11 00:00:00', freq='D'),\n",
       " Timestamp('2017-11-12 00:00:00', freq='D'),\n",
       " Timestamp('2017-11-13 00:00:00', freq='D'),\n",
       " Timestamp('2017-11-14 00:00:00', freq='D'),\n",
       " Timestamp('2017-11-15 00:00:00', freq='D'),\n",
       " Timestamp('2017-11-16 00:00:00', freq='D'),\n",
       " Timestamp('2017-11-17 00:00:00', freq='D'),\n",
       " Timestamp('2017-11-18 00:00:00', freq='D'),\n",
       " Timestamp('2017-11-19 00:00:00', freq='D'),\n",
       " Timestamp('2017-11-20 00:00:00', freq='D'),\n",
       " Timestamp('2017-11-21 00:00:00', freq='D'),\n",
       " Timestamp('2017-11-22 00:00:00', freq='D'),\n",
       " Timestamp('2017-11-23 00:00:00', freq='D'),\n",
       " Timestamp('2017-11-24 00:00:00', freq='D'),\n",
       " Timestamp('2017-11-25 00:00:00', freq='D'),\n",
       " Timestamp('2017-11-26 00:00:00', freq='D'),\n",
       " Timestamp('2017-11-27 00:00:00', freq='D'),\n",
       " Timestamp('2017-11-28 00:00:00', freq='D'),\n",
       " Timestamp('2017-11-29 00:00:00', freq='D'),\n",
       " Timestamp('2017-11-30 00:00:00', freq='D'),\n",
       " Timestamp('2017-12-01 00:00:00', freq='D'),\n",
       " Timestamp('2017-12-02 00:00:00', freq='D'),\n",
       " Timestamp('2017-12-03 00:00:00', freq='D'),\n",
       " Timestamp('2017-12-04 00:00:00', freq='D'),\n",
       " Timestamp('2017-12-05 00:00:00', freq='D'),\n",
       " Timestamp('2017-12-06 00:00:00', freq='D'),\n",
       " Timestamp('2017-12-07 00:00:00', freq='D'),\n",
       " Timestamp('2017-12-08 00:00:00', freq='D'),\n",
       " Timestamp('2017-12-09 00:00:00', freq='D'),\n",
       " Timestamp('2017-12-10 00:00:00', freq='D'),\n",
       " Timestamp('2017-12-11 00:00:00', freq='D'),\n",
       " Timestamp('2017-12-12 00:00:00', freq='D'),\n",
       " Timestamp('2017-12-13 00:00:00', freq='D'),\n",
       " Timestamp('2017-12-14 00:00:00', freq='D'),\n",
       " Timestamp('2017-12-15 00:00:00', freq='D'),\n",
       " Timestamp('2017-12-16 00:00:00', freq='D'),\n",
       " Timestamp('2017-12-17 00:00:00', freq='D'),\n",
       " Timestamp('2017-12-18 00:00:00', freq='D'),\n",
       " Timestamp('2017-12-19 00:00:00', freq='D'),\n",
       " Timestamp('2017-12-20 00:00:00', freq='D'),\n",
       " Timestamp('2017-12-21 00:00:00', freq='D'),\n",
       " Timestamp('2017-12-22 00:00:00', freq='D'),\n",
       " Timestamp('2017-12-23 00:00:00', freq='D'),\n",
       " Timestamp('2017-12-24 00:00:00', freq='D'),\n",
       " Timestamp('2017-12-25 00:00:00', freq='D'),\n",
       " Timestamp('2017-12-26 00:00:00', freq='D'),\n",
       " Timestamp('2017-12-27 00:00:00', freq='D'),\n",
       " Timestamp('2017-12-28 00:00:00', freq='D'),\n",
       " Timestamp('2017-12-29 00:00:00', freq='D'),\n",
       " Timestamp('2017-12-30 00:00:00', freq='D'),\n",
       " Timestamp('2017-12-31 00:00:00', freq='D'),\n",
       " Timestamp('2018-01-01 00:00:00', freq='D'),\n",
       " Timestamp('2018-01-02 00:00:00', freq='D'),\n",
       " Timestamp('2018-01-03 00:00:00', freq='D'),\n",
       " Timestamp('2018-01-04 00:00:00', freq='D'),\n",
       " Timestamp('2018-01-05 00:00:00', freq='D'),\n",
       " Timestamp('2018-01-06 00:00:00', freq='D'),\n",
       " Timestamp('2018-01-07 00:00:00', freq='D'),\n",
       " Timestamp('2018-01-08 00:00:00', freq='D'),\n",
       " Timestamp('2018-01-09 00:00:00', freq='D'),\n",
       " Timestamp('2018-01-10 00:00:00', freq='D'),\n",
       " Timestamp('2018-01-11 00:00:00', freq='D'),\n",
       " Timestamp('2018-01-12 00:00:00', freq='D'),\n",
       " Timestamp('2018-01-13 00:00:00', freq='D'),\n",
       " Timestamp('2018-01-14 00:00:00', freq='D'),\n",
       " Timestamp('2018-01-15 00:00:00', freq='D'),\n",
       " Timestamp('2018-01-16 00:00:00', freq='D'),\n",
       " Timestamp('2018-01-17 00:00:00', freq='D'),\n",
       " Timestamp('2018-01-18 00:00:00', freq='D'),\n",
       " Timestamp('2018-01-19 00:00:00', freq='D'),\n",
       " Timestamp('2018-01-20 00:00:00', freq='D'),\n",
       " Timestamp('2018-01-21 00:00:00', freq='D'),\n",
       " Timestamp('2018-01-22 00:00:00', freq='D'),\n",
       " Timestamp('2018-01-23 00:00:00', freq='D'),\n",
       " Timestamp('2018-01-24 00:00:00', freq='D'),\n",
       " Timestamp('2018-01-25 00:00:00', freq='D'),\n",
       " Timestamp('2018-01-26 00:00:00', freq='D'),\n",
       " Timestamp('2018-01-27 00:00:00', freq='D'),\n",
       " Timestamp('2018-01-28 00:00:00', freq='D'),\n",
       " Timestamp('2018-01-29 00:00:00', freq='D'),\n",
       " Timestamp('2018-01-30 00:00:00', freq='D'),\n",
       " Timestamp('2018-01-31 00:00:00', freq='D'),\n",
       " Timestamp('2018-02-01 00:00:00', freq='D'),\n",
       " Timestamp('2018-02-02 00:00:00', freq='D'),\n",
       " Timestamp('2018-02-03 00:00:00', freq='D'),\n",
       " Timestamp('2018-02-04 00:00:00', freq='D'),\n",
       " Timestamp('2018-02-05 00:00:00', freq='D'),\n",
       " Timestamp('2018-02-06 00:00:00', freq='D'),\n",
       " Timestamp('2018-02-07 00:00:00', freq='D')]"
      ]
     },
     "execution_count": 43,
     "metadata": {},
     "output_type": "execute_result"
    }
   ],
   "source": [
    "forcast_dates"
   ]
  },
  {
   "cell_type": "code",
   "execution_count": 44,
   "id": "6a49c136",
   "metadata": {},
   "outputs": [],
   "source": [
    "from tensorflow.keras.models import load_model"
   ]
  },
  {
   "cell_type": "code",
   "execution_count": 45,
   "id": "dbafc0df",
   "metadata": {},
   "outputs": [
    {
     "name": "stdout",
     "output_type": "stream",
     "text": [
      "WARNING:tensorflow:Sequential models without an `input_shape` passed to the first layer cannot reload their optimizer state. As a result, your model isstarting with a freshly initialized optimizer.\n"
     ]
    }
   ],
   "source": [
    "bad = load_model('good.h5')"
   ]
  },
  {
   "cell_type": "code",
   "execution_count": 59,
   "id": "722ca7c9",
   "metadata": {},
   "outputs": [],
   "source": [
    "forcast = bad.predict(X_test)"
   ]
  },
  {
   "cell_type": "code",
   "execution_count": 60,
   "id": "9fa38256",
   "metadata": {},
   "outputs": [
    {
     "data": {
      "text/plain": [
       "array([[0.25048453],\n",
       "       [0.25324255],\n",
       "       [0.25657594],\n",
       "       ...,\n",
       "       [2.198178  ],\n",
       "       [2.2063713 ],\n",
       "       [2.2134283 ]], dtype=float32)"
      ]
     },
     "execution_count": 60,
     "metadata": {},
     "output_type": "execute_result"
    }
   ],
   "source": [
    "forcast"
   ]
  },
  {
   "cell_type": "code",
   "execution_count": 61,
   "id": "3481c9b7",
   "metadata": {},
   "outputs": [],
   "source": [
    "forcast_copies = np.repeat(forcast, 4, axis=-1)"
   ]
  },
  {
   "cell_type": "code",
   "execution_count": 62,
   "id": "f1369821",
   "metadata": {},
   "outputs": [],
   "source": [
    "y_pred_future = scalar.inverse_transform(forcast_copies)[:,0]"
   ]
  },
  {
   "cell_type": "code",
   "execution_count": 64,
   "id": "84ab03f4",
   "metadata": {
    "scrolled": true
   },
   "outputs": [
    {
     "data": {
      "text/plain": [
       "array([ 31.742933,  31.847078,  31.972952, ..., 105.29007 , 105.59946 ,\n",
       "       105.86594 ], dtype=float32)"
      ]
     },
     "execution_count": 64,
     "metadata": {},
     "output_type": "execute_result"
    }
   ],
   "source": [
    "y_pred_future"
   ]
  },
  {
   "cell_type": "code",
   "execution_count": 67,
   "id": "c39c83e6",
   "metadata": {},
   "outputs": [],
   "source": [
    "y_original = scalar.inverse_transform(X_test)[:,3]"
   ]
  },
  {
   "cell_type": "code",
   "execution_count": 68,
   "id": "8e28ef12",
   "metadata": {},
   "outputs": [
    {
     "data": {
      "text/plain": [
       "array([[ 20.708,  21.092,  20.682,  20.849],\n",
       "       [ 20.874,  21.13 ,  20.861,  20.924],\n",
       "       [ 21.148,  21.339,  21.114,  21.314],\n",
       "       ...,\n",
       "       [120.21 , 120.42 , 119.68 , 120.02 ],\n",
       "       [119.02 , 119.7  , 118.75 , 119.7  ],\n",
       "       [119.23 , 119.47 , 118.71 , 119.43 ]])"
      ]
     },
     "execution_count": 68,
     "metadata": {},
     "output_type": "execute_result"
    }
   ],
   "source": [
    "y_original"
   ]
  },
  {
   "cell_type": "code",
   "execution_count": null,
   "id": "8b8eaa79",
   "metadata": {},
   "outputs": [],
   "source": []
  }
 ],
 "metadata": {
  "kernelspec": {
   "display_name": "Python 3",
   "language": "python",
   "name": "python3"
  },
  "language_info": {
   "codemirror_mode": {
    "name": "ipython",
    "version": 3
   },
   "file_extension": ".py",
   "mimetype": "text/x-python",
   "name": "python",
   "nbconvert_exporter": "python",
   "pygments_lexer": "ipython3",
   "version": "3.6.13"
  }
 },
 "nbformat": 4,
 "nbformat_minor": 5
}
